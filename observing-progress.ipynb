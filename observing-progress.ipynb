{
 "cells": [
  {
   "cell_type": "markdown",
   "metadata": {},
   "source": [
    "### Observing progress (beamforming)  \n",
    "Notebook to visualise observing progress as calculated using `star_list.py` and `est_progress.py`"
   ]
  },
  {
   "cell_type": "code",
   "execution_count": 21,
   "metadata": {},
   "outputs": [],
   "source": [
    "import matplotlib.pyplot as plt\n",
    "import pickle\n",
    "import numpy as np\n",
    "%matplotlib inline\n",
    "plt.rcParams.update({'font.size': 20})"
   ]
  },
  {
   "cell_type": "code",
   "execution_count": 36,
   "metadata": {},
   "outputs": [],
   "source": [
    "# Load progress files for different beam numbers\n",
    "with open('progress_16.pkl', 'rb') as f:\n",
    "    progress_16 = pickle.load(f)\n",
    "with open('progress_32.pkl', 'rb') as f:\n",
    "    progress_32 = pickle.load(f)\n",
    "with open('progress_64.pkl', 'rb') as f:\n",
    "    progress_64 = pickle.load(f)\n",
    "with open('progress_128.pkl', 'rb') as f:\n",
    "    progress_128 = pickle.load(f)"
   ]
  },
  {
   "cell_type": "markdown",
   "metadata": {},
   "source": [
    "Note:  \n",
    "    - Discarding primary observations $< 300$ seconds in length  \n",
    "    - Only considering unbroken $300$ second commensal observations  "
   ]
  },
  {
   "cell_type": "code",
   "execution_count": null,
   "metadata": {},
   "outputs": [],
   "source": [
    "# Plot observing progress by date:\n",
    "c_16 = np.cumsum(progress_16[1])\n",
    "c_32 = np.cumsum(progress_32[1])\n",
    "c_64 = np.cumsum(progress_64[1])\n",
    "c_128 = np.cumsum(progress_128[1])\n",
    "\n",
    "fig = plt.figure(figsize = (12,8))\n",
    "plt.plot(progress_16[0], c_16, c = 'b', label = '16 beams')\n",
    "plt.plot(progress_32[0], c_32, c = 'k', ls = '--', label = '32 beams')\n",
    "plt.plot(progress_64[0], c_64, c = 'r', ls = ':', label = '64 beams')\n",
    "plt.plot(progress_128[0], c_128, c = 'm', ls = '-.', label = '128 beams')\n",
    "plt.title(\"Cumulative unique stars observed (1 Month)\")\n",
    "plt.ylabel(\"Cumulative number of stars\")\n",
    "plt.xticks(rotation = 90)\n",
    "plt.xlim([min(progress_list[0]), max(progress_list[0])])\n",
    "plt.gca().set_ylim(bottom = 0)\n",
    "plt.legend()\n",
    "fig.savefig('progress.png', bbox_inches='tight', dpi=600, transparent = False)\n",
    "plt.show()"
   ]
  },
  {
   "cell_type": "code",
   "execution_count": null,
   "metadata": {},
   "outputs": [],
   "source": []
  }
 ],
 "metadata": {
  "kernelspec": {
   "display_name": "Python 3",
   "language": "python",
   "name": "python3"
  },
  "language_info": {
   "codemirror_mode": {
    "name": "ipython",
    "version": 3
   },
   "file_extension": ".py",
   "mimetype": "text/x-python",
   "name": "python",
   "nbconvert_exporter": "python",
   "pygments_lexer": "ipython3",
   "version": "3.8.5"
  }
 },
 "nbformat": 4,
 "nbformat_minor": 4
}
